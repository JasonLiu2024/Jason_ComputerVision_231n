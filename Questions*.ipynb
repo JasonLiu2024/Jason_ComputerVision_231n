{
 "cells": [
  {
   "attachments": {},
   "cell_type": "markdown",
   "metadata": {},
   "source": [
    "# Questions encountered"
   ]
  },
  {
   "attachments": {},
   "cell_type": "markdown",
   "metadata": {},
   "source": [
    "# Assignment 1\n",
    "knn.ipynb\n",
    "1. Inline Q2, 4: effect on knn of normalizing image by pixel-wise mean & standard deviation\n",
    "2. Inline Q2, 5: effect on knn of rotating coordinate axes of images by some degrees\n",
    "rotating axes of the image **vs** rotating axes of the L1 classifier\n",
    "3. Inline Q3, 4: Approximate Nearest Neighbor techniques (such as k-d trees, ball trees etc.)?\n"
   ]
  }
 ],
 "metadata": {
  "language_info": {
   "name": "python"
  },
  "orig_nbformat": 4
 },
 "nbformat": 4,
 "nbformat_minor": 2
}
