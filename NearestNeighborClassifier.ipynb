{
 "cells": [
  {
   "attachments": {},
   "cell_type": "markdown",
   "metadata": {},
   "source": [
    "# Nearest Neighbor Classifier\n",
    "I coded up this part following Lecture 2 of the course. "
   ]
  },
  {
   "cell_type": "code",
   "execution_count": 2,
   "metadata": {},
   "outputs": [],
   "source": [
    "import numpy as np"
   ]
  },
  {
   "attachments": {},
   "cell_type": "markdown",
   "metadata": {},
   "source": [
    "# L1 distance\n",
    "Also called 'Manhattan distance'"
   ]
  },
  {
   "cell_type": "code",
   "execution_count": null,
   "metadata": {},
   "outputs": [],
   "source": [
    "class NearestNeighbor:\n",
    "    def __init__(self):\n",
    "        pass\n",
    "    # train function: memorize training data\n",
    "    def train(self, X, y):\n",
    "        # X is an NxD matrix, where each row is an example. There are N rows\n",
    "        self.Xtr = X\n",
    "        # y is an N-tuple\n",
    "            # ith entry in y = label for ith example in x\n",
    "        self.Ytr = y\n",
    "    \n",
    "    def predict(self, X):\n",
    "        \"\"\" extract N, aka number of test e.g.s\"\"\"\n",
    "        # X is our new data. It's NxD mtx\n",
    "        # for each row i (aka ith training e.g.) in X, we want label\n",
    "        N = X.shape[0]\n",
    "        # make input and output the SAME type\n",
    "        Ypred = np.zeros(N, dtype = self.ytr.dtype)\n",
    "        # iterate over test rows!\n",
    "        for i in range(N):\n",
    "            # we got example i\n",
    "            # tldr: for ea pt Xi in X, find Xtr_i, Closest-to-Xi point in Xtr\n",
    "            # X[i,:] SLICES matrix X, dim = (D,1)\n",
    "                # we get row i, remove All otr rows\n",
    "                # axis = 1 means sum by Rows (axis = 0 sums columns)\n",
    "                # so self.Xtr - X[i,:] means:\n",
    "                # subtract vector X[i,:] from ALL Rows of matrix\n",
    "                # so in following code, we get arr of N sums\n",
    "                # -> this ONLY work bc, D match up in NxD and Dx1\n",
    "            distances = np.sum(np.abs(self.Xtr - X[i,:]), axis = 1)\n",
    "            # get index for image M with smallest distance\n",
    "                # np.argmin(arr) returns INDEX of Smallest entry in array arr\n",
    "            min_idx = np.argmin(distances)\n",
    "            # label of ith \n",
    "            Ypred[i] = self.ytr[min_idx]\n",
    "        return Ypred"
   ]
  },
  {
   "cell_type": "code",
   "execution_count": 9,
   "metadata": {},
   "outputs": [
    {
     "name": "stdout",
     "output_type": "stream",
     "text": [
      "(2, 3)\n",
      "[4 5 6]\n",
      "[[-3 -4 -5]\n",
      " [ 0  0  0]]\n",
      "[-12   0]\n"
     ]
    }
   ],
   "source": [
    "# How does the np.sum() thing work?\n",
    "X = np.array([\n",
    "    [1, 1, 1],\n",
    "    [4, 5, 6]\n",
    "])\n",
    "print(X.shape)\n",
    "print(X[1,:]) # extract entire row of X by index\n",
    "print(X - X[1,:]) # subtract All rows in X by row X[1,:]\n",
    "print(np.sum((X - X[1,:]), axis = 1)) # sum input matrix by ROWs"
   ]
  },
  {
   "attachments": {},
   "cell_type": "markdown",
   "metadata": {},
   "source": [
    "# Analysis\n",
    "Run time:\n",
    ">train() takes $O(1)$ time\n",
    "><br>predict() takes $O(N)$ time\n",
    "\n",
    "It's OK that we train() slowly\n",
    ">BUT, we want **FAST** predict()\n",
    "><br>because that's when we actually USE the model!"
   ]
  },
  {
   "cell_type": "code",
   "execution_count": null,
   "metadata": {},
   "outputs": [],
   "source": []
  }
 ],
 "metadata": {
  "kernelspec": {
   "display_name": "generalPurpose",
   "language": "python",
   "name": "python3"
  },
  "language_info": {
   "codemirror_mode": {
    "name": "ipython",
    "version": 3
   },
   "file_extension": ".py",
   "mimetype": "text/x-python",
   "name": "python",
   "nbconvert_exporter": "python",
   "pygments_lexer": "ipython3",
   "version": "3.10.9"
  },
  "orig_nbformat": 4,
  "vscode": {
   "interpreter": {
    "hash": "1ba8ef3e7b2db9f7a54513b628fe96659401697d721e3769996c9efe2f0233a5"
   }
  }
 },
 "nbformat": 4,
 "nbformat_minor": 2
}
